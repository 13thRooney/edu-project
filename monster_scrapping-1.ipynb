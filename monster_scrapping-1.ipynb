{
 "cells": [
  {
   "cell_type": "code",
   "execution_count": 5,
   "metadata": {},
   "outputs": [],
   "source": [
    "# Dependencies\n",
    "from bs4 import BeautifulSoup as bs\n",
    "import requests\n",
    "from splinter import Browser\n",
    "\n",
    "import pandas as pd"
   ]
  },
  {
   "cell_type": "code",
   "execution_count": 6,
   "metadata": {},
   "outputs": [
    {
     "name": "stdout",
     "output_type": "stream",
     "text": [
      "/usr/local/bin/chromedriver\r\n"
     ]
    }
   ],
   "source": [
    "# https://splinter.readthedocs.io/en/latest/drivers/chrome.html\n",
    "!which chromedriver"
   ]
  },
  {
   "cell_type": "code",
   "execution_count": 7,
   "metadata": {},
   "outputs": [],
   "source": [
    "# Create the exe path for chrome to open chrome page\n",
    "# Will open a chrome window\n",
    "executable_path = {'executable_path': '/usr/local/bin/chromedriver'}\n",
    "browser = Browser('chrome', **executable_path, headless=False)"
   ]
  },
  {
   "cell_type": "code",
   "execution_count": 19,
   "metadata": {},
   "outputs": [
    {
     "name": "stdout",
     "output_type": "stream",
     "text": [
      "Whats the zipcode you want to check: 92129\n",
      "What is the job search: data-entry\n",
      "What is the radius of search: 50\n",
      "How many days back: 30\n",
      "The no of data-entry jobs posted within radius of 50 from 92129 for last 30= 679\n"
     ]
    }
   ],
   "source": [
    "zippy = input(\"Whats the zipcode you want to check: \")\n",
    "title = input(\"What is the job search: \")\n",
    "radius = input (\"What is the radius of search: \")\n",
    "days = input(\"How many days back: \")\n",
    "locations_url = f'https://www.monster.com/jobs/search/?q={title}&rad={radius}&where={zippy}&tm={days}'\n",
    "browser.visit(locations_url)\n",
    "locations_html = browser.html\n",
    "soup = bs(locations_html, 'lxml')\n",
    "job_count = soup.find('h2', class_='figure').text\n",
    "job_count = job_count[job_count.find(\"(\")+1 : job_count.find(\")\")]\n",
    "job_count = int(job_count[: job_count.find(\" \")])\n",
    "\n",
    "print (f'The no of {title} jobs posted within radius of {radius} from {zippy} for last {days}= {job_count}')"
   ]
  },
  {
   "cell_type": "code",
   "execution_count": 32,
   "metadata": {},
   "outputs": [],
   "source": [
    "job_search_radius = [\"20\",\"30\",\"50\"]\n",
    "days_back = [\"7\",\"14\",\"30\"]\n",
    "zipcode_list = [\"92129\", \"60616\", \"94016\"]"
   ]
  },
  {
   "cell_type": "code",
   "execution_count": 33,
   "metadata": {},
   "outputs": [
    {
     "name": "stdout",
     "output_type": "stream",
     "text": [
      "The no of data-entry jobs posted within radius of 20 from 92129 for last 7= 167\n",
      "The no of data-entry jobs posted within radius of 20 from 60616 for last 7= 258\n",
      "The no of data-entry jobs posted within radius of 20 from 94016 for last 7= 226\n",
      "\n",
      "-------------------------------------------------------------------------------------\n",
      "The no of data-entry jobs posted within radius of 20 from 92129 for last 14= 254\n",
      "The no of data-entry jobs posted within radius of 20 from 60616 for last 14= 395\n",
      "The no of data-entry jobs posted within radius of 20 from 94016 for last 14= 351\n",
      "\n",
      "-------------------------------------------------------------------------------------\n",
      "The no of data-entry jobs posted within radius of 20 from 92129 for last 30= 383\n",
      "The no of data-entry jobs posted within radius of 20 from 60616 for last 30= 611\n",
      "The no of data-entry jobs posted within radius of 20 from 94016 for last 30= 615\n",
      "\n",
      "-------------------------------------------------------------------------------------\n",
      "\n",
      "-------------------------------------------------------------------------------------\n",
      "The no of data-entry jobs posted within radius of 30 from 92129 for last 7= 178\n",
      "The no of data-entry jobs posted within radius of 30 from 60616 for last 7= 368\n",
      "The no of data-entry jobs posted within radius of 30 from 94016 for last 7= 402\n",
      "\n",
      "-------------------------------------------------------------------------------------\n",
      "The no of data-entry jobs posted within radius of 30 from 92129 for last 14= 269\n",
      "The no of data-entry jobs posted within radius of 30 from 60616 for last 14= 571\n",
      "The no of data-entry jobs posted within radius of 30 from 94016 for last 14= 601\n",
      "\n",
      "-------------------------------------------------------------------------------------\n",
      "The no of data-entry jobs posted within radius of 30 from 92129 for last 30= 403\n",
      "The no of data-entry jobs posted within radius of 30 from 60616 for last 30= 878\n",
      "The no of data-entry jobs posted within radius of 30 from 94016 for last 30= 1089\n",
      "\n",
      "-------------------------------------------------------------------------------------\n",
      "\n",
      "-------------------------------------------------------------------------------------\n",
      "The no of data-entry jobs posted within radius of 50 from 92129 for last 7= 285\n",
      "The no of data-entry jobs posted within radius of 50 from 60616 for last 7= 406\n",
      "The no of data-entry jobs posted within radius of 50 from 94016 for last 7= 498\n",
      "\n",
      "-------------------------------------------------------------------------------------\n",
      "The no of data-entry jobs posted within radius of 50 from 92129 for last 14= 433\n",
      "The no of data-entry jobs posted within radius of 50 from 60616 for last 14= 649\n",
      "The no of data-entry jobs posted within radius of 50 from 94016 for last 14= 764\n",
      "\n",
      "-------------------------------------------------------------------------------------\n",
      "The no of data-entry jobs posted within radius of 50 from 92129 for last 30= 681\n",
      "The no of data-entry jobs posted within radius of 50 from 60616 for last 30= 994\n",
      "The no of data-entry jobs posted within radius of 50 from 94016 for last 30= 1318\n",
      "\n",
      "-------------------------------------------------------------------------------------\n",
      "\n",
      "-------------------------------------------------------------------------------------\n"
     ]
    }
   ],
   "source": [
    "for radii in job_search_radius:\n",
    "    for dates in days_back:\n",
    "        for zip in zipcode_list:\n",
    "            locations_url = f'https://www.monster.com/jobs/search/?q={title}&rad={radii}&where={zip}&tm={dates}'\n",
    "            browser.visit(locations_url)\n",
    "            locations_html = browser.html\n",
    "            soup = bs(locations_html, 'lxml')\n",
    "            job_count = soup.find('h2', class_='figure').text\n",
    "            job_count = job_count[job_count.find(\"(\")+1 : job_count.find(\")\")]\n",
    "            job_count = int(job_count[: job_count.find(\" \")])\n",
    "\n",
    "            print (f'The no of {title} jobs posted within radius of {radii} from {zip} for last {dates}= {job_count}')\n",
    "        \n",
    "        print (f'\\n-------------------------------------------------------------------------------------')\n",
    "    print (f'\\n-------------------------------------------------------------------------------------')"
   ]
  },
  {
   "cell_type": "code",
   "execution_count": null,
   "metadata": {},
   "outputs": [],
   "source": []
  }
 ],
 "metadata": {
  "kernelspec": {
   "display_name": "Python (PythonData)",
   "language": "python",
   "name": "myenv"
  },
  "language_info": {
   "codemirror_mode": {
    "name": "ipython",
    "version": 3
   },
   "file_extension": ".py",
   "mimetype": "text/x-python",
   "name": "python",
   "nbconvert_exporter": "python",
   "pygments_lexer": "ipython3",
   "version": "3.6.8"
  }
 },
 "nbformat": 4,
 "nbformat_minor": 2
}
